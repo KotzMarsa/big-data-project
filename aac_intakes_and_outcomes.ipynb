{
  "nbformat": 4,
  "nbformat_minor": 0,
  "metadata": {
    "colab": {
      "name": "aac intakes and outcomes.ipynb",
      "provenance": [],
      "collapsed_sections": [],
      "machine_shape": "hm",
      "include_colab_link": true
    },
    "kernelspec": {
      "name": "python3",
      "display_name": "Python 3"
    }
  },
  "cells": [
    {
      "cell_type": "markdown",
      "metadata": {
        "id": "view-in-github",
        "colab_type": "text"
      },
      "source": [
        "<a href=\"https://colab.research.google.com/github/KotzMarsa/big-data-project/blob/master/aac_intakes_and_outcomes.ipynb\" target=\"_parent\"><img src=\"https://colab.research.google.com/assets/colab-badge.svg\" alt=\"Open In Colab\"/></a>"
      ]
    },
    {
      "cell_type": "markdown",
      "metadata": {
        "id": "DKIMueVaX265",
        "colab_type": "text"
      },
      "source": [
        "# Import bibliotek i danych"
      ]
    },
    {
      "cell_type": "code",
      "metadata": {
        "id": "OAkpGUaEvztl",
        "colab_type": "code",
        "colab": {}
      },
      "source": [
        "import pandas\n",
        "import numpy as np"
      ],
      "execution_count": 0,
      "outputs": []
    },
    {
      "cell_type": "code",
      "metadata": {
        "id": "QxVHWt57v3Jz",
        "colab_type": "code",
        "colab": {}
      },
      "source": [
        "intakes_filename = 'https://raw.githubusercontent.com/KotzMarsa/big-data-project/master/Austin_Animal_Center_Intakes.csv'\n",
        "outcomes_filename = 'https://raw.githubusercontent.com/KotzMarsa/big-data-project/master/Austin_Animal_Center_Outcomes.csv'"
      ],
      "execution_count": 0,
      "outputs": []
    },
    {
      "cell_type": "code",
      "metadata": {
        "id": "OQMIlBorwY-V",
        "colab_type": "code",
        "colab": {}
      },
      "source": [
        "intakes = pandas.read_csv(intakes_filename)\n",
        "outcomes = pandas.read_csv(outcomes_filename)"
      ],
      "execution_count": 0,
      "outputs": []
    },
    {
      "cell_type": "code",
      "metadata": {
        "id": "kj2cuBihxFEI",
        "colab_type": "code",
        "outputId": "74e747e9-e33a-49fd-bfe4-44a0496159ac",
        "colab": {
          "base_uri": "https://localhost:8080/",
          "height": 153
        }
      },
      "source": [
        "print(intakes.columns)\n",
        "print(outcomes.columns)"
      ],
      "execution_count": 60,
      "outputs": [
        {
          "output_type": "stream",
          "text": [
            "Index(['Animal ID', 'Name', 'DateTime', 'MonthYear', 'Found Location',\n",
            "       'Intake Type', 'Intake Condition', 'Animal Type', 'Sex upon Intake',\n",
            "       'Age upon Intake', 'Breed', 'Color'],\n",
            "      dtype='object')\n",
            "Index(['Animal ID', 'Name', 'DateTime', 'MonthYear', 'Date of Birth',\n",
            "       'Outcome Type', 'Outcome Subtype', 'Animal Type', 'Sex upon Outcome',\n",
            "       'Age upon Outcome', 'Breed', 'Color'],\n",
            "      dtype='object')\n"
          ],
          "name": "stdout"
        }
      ]
    },
    {
      "cell_type": "markdown",
      "metadata": {
        "id": "t_L_dtYqa5WS",
        "colab_type": "text"
      },
      "source": [
        "# Przekształcenie danych"
      ]
    },
    {
      "cell_type": "markdown",
      "metadata": {
        "id": "5FSGCcJPYBbj",
        "colab_type": "text"
      },
      "source": [
        "Zmiana nazw i typu kolumn zawierających daty"
      ]
    },
    {
      "cell_type": "code",
      "metadata": {
        "id": "083xs7Luyzcy",
        "colab_type": "code",
        "colab": {}
      },
      "source": [
        "intakes.rename(columns={'DateTime':'IntakeDateTime'}, inplace=True)\n",
        "outcomes.rename(columns={'DateTime':'OutcomeDateTime'}, inplace=True)\n",
        "intakes = intakes.drop(['MonthYear'], axis=1)\n",
        "outcomes = outcomes.drop(['MonthYear'], axis=1)"
      ],
      "execution_count": 0,
      "outputs": []
    },
    {
      "cell_type": "code",
      "metadata": {
        "id": "Ct3rebSBlHPl",
        "colab_type": "code",
        "colab": {}
      },
      "source": [
        "intakes['IntakeDateTime'] = pandas.to_datetime(intakes['IntakeDateTime'])\n",
        "outcomes['OutcomeDateTime'] = pandas.to_datetime(outcomes['OutcomeDateTime'])"
      ],
      "execution_count": 0,
      "outputs": []
    },
    {
      "cell_type": "markdown",
      "metadata": {
        "id": "E2bctNooYPzs",
        "colab_type": "text"
      },
      "source": [
        "Usunięcie duplikatów i problematycznych danych (błędnie wprowadzone daty)"
      ]
    },
    {
      "cell_type": "code",
      "metadata": {
        "id": "nN_EyaaZY1cy",
        "colab_type": "code",
        "colab": {}
      },
      "source": [
        "intakes.drop_duplicates(keep='first', inplace=True)\n",
        "outcomes.drop_duplicates(keep='first', inplace=True)\n",
        "outcomes = outcomes[outcomes['OutcomeDateTime'] != '2014-07-06 15:58:00']\n",
        "outcomes = outcomes[outcomes['OutcomeDateTime'] != '2017-02-01 10:15:00']\n",
        "intakes = intakes[intakes['IntakeDateTime'] != '2019-04-26 13:26:00']\n",
        "outcomes = outcomes[outcomes['OutcomeDateTime'] != '2019-01-12 15:17:00']\n",
        "intakes = intakes[intakes['IntakeDateTime'] != '2018-02-08 16:12:00']\n",
        "outcomes = outcomes[outcomes['OutcomeDateTime'] != '2016-07-24 19:25:00']"
      ],
      "execution_count": 0,
      "outputs": []
    },
    {
      "cell_type": "markdown",
      "metadata": {
        "id": "yW19qL0NYsv5",
        "colab_type": "text"
      },
      "source": [
        "Połączenie obu zbiorów"
      ]
    },
    {
      "cell_type": "code",
      "metadata": {
        "id": "QYG7jT-Klxho",
        "colab_type": "code",
        "colab": {}
      },
      "source": [
        "intakes = intakes.sort_values(by=['IntakeDateTime'])\n",
        "outcomes = outcomes.sort_values(by=['OutcomeDateTime'])"
      ],
      "execution_count": 0,
      "outputs": []
    },
    {
      "cell_type": "code",
      "metadata": {
        "id": "KX1ON9o-gGx8",
        "colab_type": "code",
        "colab": {}
      },
      "source": [
        "intakes['Counter'] = intakes.groupby('Animal ID').cumcount()\n",
        "outcomes['Counter'] = outcomes.groupby('Animal ID').cumcount()\n",
        "intakes = intakes.sort_values(by=['IntakeDateTime'])\n",
        "outcomes = outcomes.sort_values(by=['OutcomeDateTime'])"
      ],
      "execution_count": 0,
      "outputs": []
    },
    {
      "cell_type": "code",
      "metadata": {
        "id": "qyY6n2p2o8_U",
        "colab_type": "code",
        "colab": {}
      },
      "source": [
        "intakes['new id'] = intakes['Animal ID'] + intakes['Counter'].map(str)\n",
        "outcomes['new id'] = outcomes['Animal ID'] + outcomes['Counter'].map(str)\n",
        "intakes = intakes.sort_values(by=['IntakeDateTime'])\n",
        "outcomes = outcomes.sort_values(by=['OutcomeDateTime'])"
      ],
      "execution_count": 0,
      "outputs": []
    },
    {
      "cell_type": "code",
      "metadata": {
        "id": "AixQNNc_bTkK",
        "colab_type": "code",
        "colab": {}
      },
      "source": [
        "in_and_out = intakes.merge(outcomes, how='left', on='new id')"
      ],
      "execution_count": 0,
      "outputs": []
    },
    {
      "cell_type": "code",
      "metadata": {
        "id": "RliCXpJl58Ok",
        "colab_type": "code",
        "colab": {}
      },
      "source": [
        "to_drop = (in_and_out[in_and_out['OutcomeDateTime'] <= in_and_out['IntakeDateTime']])\n",
        "to_drop = to_drop[to_drop['Counter_x'] == 0]"
      ],
      "execution_count": 0,
      "outputs": []
    },
    {
      "cell_type": "code",
      "metadata": {
        "id": "Q2lSJWx88yfv",
        "colab_type": "code",
        "colab": {}
      },
      "source": [
        "cond = outcomes['new id'].isin(to_drop['new id']) == True\n",
        "outcomes.drop(outcomes[cond].index, inplace = True)"
      ],
      "execution_count": 0,
      "outputs": []
    },
    {
      "cell_type": "code",
      "metadata": {
        "id": "wj0Hzqb83bi2",
        "colab_type": "code",
        "colab": {}
      },
      "source": [
        "outcomes = outcomes.drop(['Counter'], axis=1)\n",
        "outcomes = outcomes.drop(['new id'], axis=1)\n",
        "outcomes = outcomes.sort_values(by=['OutcomeDateTime'])\n",
        "outcomes['cc'] = outcomes.groupby('Animal ID').cumcount()\n",
        "outcomes = outcomes.sort_values(by=['OutcomeDateTime'])\n",
        "outcomes['new id'] = outcomes['Animal ID'] + outcomes['cc'].map(str)"
      ],
      "execution_count": 0,
      "outputs": []
    },
    {
      "cell_type": "code",
      "metadata": {
        "id": "4A5LoK8G3qIN",
        "colab_type": "code",
        "colab": {}
      },
      "source": [
        "in_and_out = intakes.merge(outcomes, how='left').drop('new id', 1)"
      ],
      "execution_count": 0,
      "outputs": []
    },
    {
      "cell_type": "code",
      "metadata": {
        "id": "usxbfMzccCDZ",
        "colab_type": "code",
        "colab": {}
      },
      "source": [
        "in_and_out['Date of Birth'] = pandas.to_datetime(in_and_out['Date of Birth'])"
      ],
      "execution_count": 0,
      "outputs": []
    },
    {
      "cell_type": "code",
      "metadata": {
        "id": "Scc1l-UNr93K",
        "colab_type": "code",
        "colab": {}
      },
      "source": [
        "in_and_out = in_and_out.drop(['cc'], axis=1)\n",
        "in_and_out['Counter'] = in_and_out['Counter'] + 1"
      ],
      "execution_count": 0,
      "outputs": []
    },
    {
      "cell_type": "markdown",
      "metadata": {
        "id": "298jJYCUY7l1",
        "colab_type": "text"
      },
      "source": [
        "Wprowadzenie dodatkowych kolumn:\n",
        "\n",
        "\n",
        "*   Time in AAC\n",
        "*   Is in AAC\n",
        "\n"
      ]
    },
    {
      "cell_type": "code",
      "metadata": {
        "id": "5i9Y92ndlPEY",
        "colab_type": "code",
        "colab": {}
      },
      "source": [
        "in_and_out['Time in AAC'] = abs(in_and_out['OutcomeDateTime'] - in_and_out['IntakeDateTime'])"
      ],
      "execution_count": 0,
      "outputs": []
    },
    {
      "cell_type": "code",
      "metadata": {
        "id": "AFlQLA5AfViZ",
        "colab_type": "code",
        "colab": {}
      },
      "source": [
        "in_and_out['Is in AAC'] = ~pandas.notna(in_and_out['OutcomeDateTime'])"
      ],
      "execution_count": 0,
      "outputs": []
    },
    {
      "cell_type": "code",
      "metadata": {
        "id": "h80JQfe8dRtj",
        "colab_type": "code",
        "colab": {}
      },
      "source": [
        "to_drop = (in_and_out[in_and_out['Time in AAC'] < '00:00:00'])"
      ],
      "execution_count": 0,
      "outputs": []
    },
    {
      "cell_type": "markdown",
      "metadata": {
        "id": "BDJUVcgPZpQi",
        "colab_type": "text"
      },
      "source": [
        "Usunięcie symbolu * z imion (ponieważ brak informacji o tym, co miał oznaczać)"
      ]
    },
    {
      "cell_type": "code",
      "metadata": {
        "id": "V__KYchwfZkB",
        "colab_type": "code",
        "colab": {}
      },
      "source": [
        "in_and_out['Name'] = in_and_out['Name'].str.replace('*', '')\n",
        "in_and_out['Name'] = in_and_out['Name'].str.replace('Ă‰', 'É')"
      ],
      "execution_count": 0,
      "outputs": []
    },
    {
      "cell_type": "markdown",
      "metadata": {
        "id": "d7BqFsMcZ1um",
        "colab_type": "text"
      },
      "source": [
        "Dodanie nazw dni tygodnia"
      ]
    },
    {
      "cell_type": "code",
      "metadata": {
        "id": "RCQwSAoK_VWS",
        "colab_type": "code",
        "colab": {}
      },
      "source": [
        "in_and_out['Day of intake'] = in_and_out['IntakeDateTime'].dt.day_name()\n",
        "in_and_out['Day of outcome'] = in_and_out['OutcomeDateTime'].dt.day_name()"
      ],
      "execution_count": 0,
      "outputs": []
    },
    {
      "cell_type": "markdown",
      "metadata": {
        "id": "PENNBbxUZ56c",
        "colab_type": "text"
      },
      "source": [
        "Zmiana kolejności kolumn"
      ]
    },
    {
      "cell_type": "code",
      "metadata": {
        "id": "TuaRXKxV_wjp",
        "colab_type": "code",
        "colab": {}
      },
      "source": [
        "in_and_out = in_and_out.reindex(columns=['Animal ID', \n",
        "                                         'Animal Type', 'Name', 'Breed', 'Color', 'Date of Birth', \n",
        "                                         'IntakeDateTime', 'OutcomeDateTime', 'Day of intake', 'Day of outcome', 'Counter', 'Found Location',\n",
        "                                         'Intake Type', 'Intake Condition', 'Sex upon Intake', 'Sex upon Outcome',\n",
        "                                         'Age upon Intake', 'Age upon Outcome', 'Outcome Type', 'Outcome Subtype', 'Is in AAC', 'Time in AAC'])"
      ],
      "execution_count": 0,
      "outputs": []
    },
    {
      "cell_type": "markdown",
      "metadata": {
        "id": "5h83kVeUaAik",
        "colab_type": "text"
      },
      "source": [
        "Rozdzielenie kolumn zawierających datę i czas"
      ]
    },
    {
      "cell_type": "code",
      "metadata": {
        "id": "aFbfYqsuFm9P",
        "colab_type": "code",
        "colab": {}
      },
      "source": [
        "in_and_out['Intake Date'] = pandas.to_datetime(in_and_out['IntakeDateTime']).dt.date\n",
        "in_and_out['Intake Time'] = pandas.to_datetime(in_and_out['IntakeDateTime']).dt.time\n",
        "in_and_out['Outcome Date'] = pandas.to_datetime(in_and_out['OutcomeDateTime']).dt.date\n",
        "in_and_out['Outcome Time'] = pandas.to_datetime(in_and_out['OutcomeDateTime']).dt.time"
      ],
      "execution_count": 0,
      "outputs": []
    },
    {
      "cell_type": "markdown",
      "metadata": {
        "id": "OfwiTTmpaIvm",
        "colab_type": "text"
      },
      "source": [
        "Dodanie liczby dni spędzonych przez zwierzęta w AAC.\n",
        "\n",
        "Kolumna *Days in AAC (not adopted)* jest obliczona tutaj dla wszystkich i będzie filtrowana dopiero w Power Bi."
      ]
    },
    {
      "cell_type": "code",
      "metadata": {
        "id": "-g3iLsLYE85c",
        "colab_type": "code",
        "colab": {}
      },
      "source": [
        "in_and_out['Days in AAC (adopted)'] = in_and_out['Outcome Date'] - in_and_out['Intake Date']"
      ],
      "execution_count": 0,
      "outputs": []
    },
    {
      "cell_type": "code",
      "metadata": {
        "id": "zroFaCPWHt-y",
        "colab_type": "code",
        "colab": {}
      },
      "source": [
        "today = pandas.to_datetime('2019-12-10')\n",
        "in_and_out['Days in AAC (not adopted)'] = (today - pandas.to_datetime(in_and_out['Intake Date']))"
      ],
      "execution_count": 0,
      "outputs": []
    },
    {
      "cell_type": "markdown",
      "metadata": {
        "id": "0yhqJnMMalcC",
        "colab_type": "text"
      },
      "source": [
        "# Gotowy zbiór danych i informacje o nim"
      ]
    },
    {
      "cell_type": "code",
      "metadata": {
        "id": "blxkA5ij-vjv",
        "colab_type": "code",
        "outputId": "fac94c96-a7cb-4eb0-9047-9ce4712a43e6",
        "colab": {
          "base_uri": "https://localhost:8080/",
          "height": 898
        }
      },
      "source": [
        "in_and_out"
      ],
      "execution_count": 83,
      "outputs": [
        {
          "output_type": "execute_result",
          "data": {
            "text/html": [
              "<div>\n",
              "<style scoped>\n",
              "    .dataframe tbody tr th:only-of-type {\n",
              "        vertical-align: middle;\n",
              "    }\n",
              "\n",
              "    .dataframe tbody tr th {\n",
              "        vertical-align: top;\n",
              "    }\n",
              "\n",
              "    .dataframe thead th {\n",
              "        text-align: right;\n",
              "    }\n",
              "</style>\n",
              "<table border=\"1\" class=\"dataframe\">\n",
              "  <thead>\n",
              "    <tr style=\"text-align: right;\">\n",
              "      <th></th>\n",
              "      <th>Animal ID</th>\n",
              "      <th>Animal Type</th>\n",
              "      <th>Name</th>\n",
              "      <th>Breed</th>\n",
              "      <th>Color</th>\n",
              "      <th>Date of Birth</th>\n",
              "      <th>IntakeDateTime</th>\n",
              "      <th>OutcomeDateTime</th>\n",
              "      <th>Day of intake</th>\n",
              "      <th>Day of outcome</th>\n",
              "      <th>Counter</th>\n",
              "      <th>Found Location</th>\n",
              "      <th>Intake Type</th>\n",
              "      <th>Intake Condition</th>\n",
              "      <th>Sex upon Intake</th>\n",
              "      <th>Sex upon Outcome</th>\n",
              "      <th>Age upon Intake</th>\n",
              "      <th>Age upon Outcome</th>\n",
              "      <th>Outcome Type</th>\n",
              "      <th>Outcome Subtype</th>\n",
              "      <th>Is in AAC</th>\n",
              "      <th>Time in AAC</th>\n",
              "      <th>Intake Date</th>\n",
              "      <th>Intake Time</th>\n",
              "      <th>Outcome Date</th>\n",
              "      <th>Outcome Time</th>\n",
              "      <th>Days in AAC (adopted)</th>\n",
              "      <th>Days in AAC (not adopted)</th>\n",
              "    </tr>\n",
              "  </thead>\n",
              "  <tbody>\n",
              "    <tr>\n",
              "      <th>0</th>\n",
              "      <td>A521520</td>\n",
              "      <td>Dog</td>\n",
              "      <td>Nina</td>\n",
              "      <td>Border Terrier/Border Collie</td>\n",
              "      <td>White/Tan</td>\n",
              "      <td>2006-09-07</td>\n",
              "      <td>2013-10-01 07:51:00</td>\n",
              "      <td>2013-10-01 15:39:00</td>\n",
              "      <td>Tuesday</td>\n",
              "      <td>Tuesday</td>\n",
              "      <td>1</td>\n",
              "      <td>Norht Ec in Austin (TX)</td>\n",
              "      <td>Stray</td>\n",
              "      <td>Normal</td>\n",
              "      <td>Spayed Female</td>\n",
              "      <td>Spayed Female</td>\n",
              "      <td>7 years</td>\n",
              "      <td>7 years</td>\n",
              "      <td>Return to Owner</td>\n",
              "      <td>NaN</td>\n",
              "      <td>False</td>\n",
              "      <td>07:48:00</td>\n",
              "      <td>2013-10-01</td>\n",
              "      <td>07:51:00</td>\n",
              "      <td>2013-10-01</td>\n",
              "      <td>15:39:00</td>\n",
              "      <td>0 days</td>\n",
              "      <td>2261 days</td>\n",
              "    </tr>\n",
              "    <tr>\n",
              "      <th>1</th>\n",
              "      <td>A664235</td>\n",
              "      <td>Cat</td>\n",
              "      <td>NaN</td>\n",
              "      <td>Domestic Shorthair Mix</td>\n",
              "      <td>Orange/White</td>\n",
              "      <td>2013-09-24</td>\n",
              "      <td>2013-10-01 08:33:00</td>\n",
              "      <td>2013-10-01 10:39:00</td>\n",
              "      <td>Tuesday</td>\n",
              "      <td>Tuesday</td>\n",
              "      <td>1</td>\n",
              "      <td>Abia in Austin (TX)</td>\n",
              "      <td>Stray</td>\n",
              "      <td>Normal</td>\n",
              "      <td>Unknown</td>\n",
              "      <td>Unknown</td>\n",
              "      <td>1 week</td>\n",
              "      <td>1 week</td>\n",
              "      <td>Transfer</td>\n",
              "      <td>Partner</td>\n",
              "      <td>False</td>\n",
              "      <td>02:06:00</td>\n",
              "      <td>2013-10-01</td>\n",
              "      <td>08:33:00</td>\n",
              "      <td>2013-10-01</td>\n",
              "      <td>10:39:00</td>\n",
              "      <td>0 days</td>\n",
              "      <td>2261 days</td>\n",
              "    </tr>\n",
              "    <tr>\n",
              "      <th>2</th>\n",
              "      <td>A664236</td>\n",
              "      <td>Cat</td>\n",
              "      <td>NaN</td>\n",
              "      <td>Domestic Shorthair Mix</td>\n",
              "      <td>Orange/White</td>\n",
              "      <td>2013-09-24</td>\n",
              "      <td>2013-10-01 08:33:00</td>\n",
              "      <td>2013-10-01 10:44:00</td>\n",
              "      <td>Tuesday</td>\n",
              "      <td>Tuesday</td>\n",
              "      <td>1</td>\n",
              "      <td>Abia in Austin (TX)</td>\n",
              "      <td>Stray</td>\n",
              "      <td>Normal</td>\n",
              "      <td>Unknown</td>\n",
              "      <td>Unknown</td>\n",
              "      <td>1 week</td>\n",
              "      <td>1 week</td>\n",
              "      <td>Transfer</td>\n",
              "      <td>Partner</td>\n",
              "      <td>False</td>\n",
              "      <td>02:11:00</td>\n",
              "      <td>2013-10-01</td>\n",
              "      <td>08:33:00</td>\n",
              "      <td>2013-10-01</td>\n",
              "      <td>10:44:00</td>\n",
              "      <td>0 days</td>\n",
              "      <td>2261 days</td>\n",
              "    </tr>\n",
              "    <tr>\n",
              "      <th>3</th>\n",
              "      <td>A664237</td>\n",
              "      <td>Cat</td>\n",
              "      <td>NaN</td>\n",
              "      <td>Domestic Shorthair Mix</td>\n",
              "      <td>Orange/White</td>\n",
              "      <td>2013-09-24</td>\n",
              "      <td>2013-10-01 08:33:00</td>\n",
              "      <td>2013-10-01 10:44:00</td>\n",
              "      <td>Tuesday</td>\n",
              "      <td>Tuesday</td>\n",
              "      <td>1</td>\n",
              "      <td>Abia in Austin (TX)</td>\n",
              "      <td>Stray</td>\n",
              "      <td>Normal</td>\n",
              "      <td>Unknown</td>\n",
              "      <td>Unknown</td>\n",
              "      <td>1 week</td>\n",
              "      <td>1 week</td>\n",
              "      <td>Transfer</td>\n",
              "      <td>Partner</td>\n",
              "      <td>False</td>\n",
              "      <td>02:11:00</td>\n",
              "      <td>2013-10-01</td>\n",
              "      <td>08:33:00</td>\n",
              "      <td>2013-10-01</td>\n",
              "      <td>10:44:00</td>\n",
              "      <td>0 days</td>\n",
              "      <td>2261 days</td>\n",
              "    </tr>\n",
              "    <tr>\n",
              "      <th>4</th>\n",
              "      <td>A664233</td>\n",
              "      <td>Dog</td>\n",
              "      <td>Stevie</td>\n",
              "      <td>Pit Bull Mix</td>\n",
              "      <td>Blue/White</td>\n",
              "      <td>2010-09-30</td>\n",
              "      <td>2013-10-01 08:53:00</td>\n",
              "      <td>2013-10-01 15:33:00</td>\n",
              "      <td>Tuesday</td>\n",
              "      <td>Tuesday</td>\n",
              "      <td>1</td>\n",
              "      <td>7405 Springtime in Austin (TX)</td>\n",
              "      <td>Stray</td>\n",
              "      <td>Injured</td>\n",
              "      <td>Intact Female</td>\n",
              "      <td>Intact Female</td>\n",
              "      <td>3 years</td>\n",
              "      <td>3 years</td>\n",
              "      <td>Euthanasia</td>\n",
              "      <td>Suffering</td>\n",
              "      <td>False</td>\n",
              "      <td>06:40:00</td>\n",
              "      <td>2013-10-01</td>\n",
              "      <td>08:53:00</td>\n",
              "      <td>2013-10-01</td>\n",
              "      <td>15:33:00</td>\n",
              "      <td>0 days</td>\n",
              "      <td>2261 days</td>\n",
              "    </tr>\n",
              "    <tr>\n",
              "      <th>...</th>\n",
              "      <td>...</td>\n",
              "      <td>...</td>\n",
              "      <td>...</td>\n",
              "      <td>...</td>\n",
              "      <td>...</td>\n",
              "      <td>...</td>\n",
              "      <td>...</td>\n",
              "      <td>...</td>\n",
              "      <td>...</td>\n",
              "      <td>...</td>\n",
              "      <td>...</td>\n",
              "      <td>...</td>\n",
              "      <td>...</td>\n",
              "      <td>...</td>\n",
              "      <td>...</td>\n",
              "      <td>...</td>\n",
              "      <td>...</td>\n",
              "      <td>...</td>\n",
              "      <td>...</td>\n",
              "      <td>...</td>\n",
              "      <td>...</td>\n",
              "      <td>...</td>\n",
              "      <td>...</td>\n",
              "      <td>...</td>\n",
              "      <td>...</td>\n",
              "      <td>...</td>\n",
              "      <td>...</td>\n",
              "      <td>...</td>\n",
              "    </tr>\n",
              "    <tr>\n",
              "      <th>112600</th>\n",
              "      <td>A810187</td>\n",
              "      <td>Dog</td>\n",
              "      <td>Canelo</td>\n",
              "      <td>American Pit Bull Terrier/Boxer</td>\n",
              "      <td>Tan/White</td>\n",
              "      <td>NaT</td>\n",
              "      <td>2019-12-08 16:38:00</td>\n",
              "      <td>NaT</td>\n",
              "      <td>Sunday</td>\n",
              "      <td>NaN</td>\n",
              "      <td>1</td>\n",
              "      <td>Austin (TX)</td>\n",
              "      <td>Owner Surrender</td>\n",
              "      <td>Normal</td>\n",
              "      <td>Neutered Male</td>\n",
              "      <td>NaN</td>\n",
              "      <td>9 months</td>\n",
              "      <td>NaN</td>\n",
              "      <td>NaN</td>\n",
              "      <td>NaN</td>\n",
              "      <td>True</td>\n",
              "      <td>NaT</td>\n",
              "      <td>2019-12-08</td>\n",
              "      <td>16:38:00</td>\n",
              "      <td>NaT</td>\n",
              "      <td>NaT</td>\n",
              "      <td>NaT</td>\n",
              "      <td>2 days</td>\n",
              "    </tr>\n",
              "    <tr>\n",
              "      <th>112601</th>\n",
              "      <td>A810189</td>\n",
              "      <td>Dog</td>\n",
              "      <td>Daisy</td>\n",
              "      <td>Treeing Cur Mix</td>\n",
              "      <td>Black/White</td>\n",
              "      <td>NaT</td>\n",
              "      <td>2019-12-08 17:31:00</td>\n",
              "      <td>NaT</td>\n",
              "      <td>Sunday</td>\n",
              "      <td>NaN</td>\n",
              "      <td>1</td>\n",
              "      <td>Sweet Leaf And Harcourt House in Pflugerville ...</td>\n",
              "      <td>Stray</td>\n",
              "      <td>Normal</td>\n",
              "      <td>Intact Female</td>\n",
              "      <td>NaN</td>\n",
              "      <td>2 years</td>\n",
              "      <td>NaN</td>\n",
              "      <td>NaN</td>\n",
              "      <td>NaN</td>\n",
              "      <td>True</td>\n",
              "      <td>NaT</td>\n",
              "      <td>2019-12-08</td>\n",
              "      <td>17:31:00</td>\n",
              "      <td>NaT</td>\n",
              "      <td>NaT</td>\n",
              "      <td>NaT</td>\n",
              "      <td>2 days</td>\n",
              "    </tr>\n",
              "    <tr>\n",
              "      <th>112602</th>\n",
              "      <td>A810190</td>\n",
              "      <td>Other</td>\n",
              "      <td>NaN</td>\n",
              "      <td>Raccoon</td>\n",
              "      <td>Gray/Black</td>\n",
              "      <td>2017-12-08</td>\n",
              "      <td>2019-12-08 18:21:00</td>\n",
              "      <td>2019-12-08 18:54:00</td>\n",
              "      <td>Sunday</td>\n",
              "      <td>Sunday</td>\n",
              "      <td>1</td>\n",
              "      <td>5114 Eilers Avenue in Austin (TX)</td>\n",
              "      <td>Wildlife</td>\n",
              "      <td>Sick</td>\n",
              "      <td>Unknown</td>\n",
              "      <td>Unknown</td>\n",
              "      <td>2 years</td>\n",
              "      <td>2 years</td>\n",
              "      <td>Euthanasia</td>\n",
              "      <td>Rabies Risk</td>\n",
              "      <td>False</td>\n",
              "      <td>00:33:00</td>\n",
              "      <td>2019-12-08</td>\n",
              "      <td>18:21:00</td>\n",
              "      <td>2019-12-08</td>\n",
              "      <td>18:54:00</td>\n",
              "      <td>0 days</td>\n",
              "      <td>2 days</td>\n",
              "    </tr>\n",
              "    <tr>\n",
              "      <th>112603</th>\n",
              "      <td>A790482</td>\n",
              "      <td>Dog</td>\n",
              "      <td>Blue</td>\n",
              "      <td>Pit Bull Mix</td>\n",
              "      <td>Gray/White</td>\n",
              "      <td>NaT</td>\n",
              "      <td>2019-12-08 21:44:00</td>\n",
              "      <td>NaT</td>\n",
              "      <td>Sunday</td>\n",
              "      <td>NaN</td>\n",
              "      <td>4</td>\n",
              "      <td>5902 Broken Spoke Trail in Austin (TX)</td>\n",
              "      <td>Stray</td>\n",
              "      <td>Normal</td>\n",
              "      <td>Neutered Male</td>\n",
              "      <td>NaN</td>\n",
              "      <td>2 years</td>\n",
              "      <td>NaN</td>\n",
              "      <td>NaN</td>\n",
              "      <td>NaN</td>\n",
              "      <td>True</td>\n",
              "      <td>NaT</td>\n",
              "      <td>2019-12-08</td>\n",
              "      <td>21:44:00</td>\n",
              "      <td>NaT</td>\n",
              "      <td>NaT</td>\n",
              "      <td>NaT</td>\n",
              "      <td>2 days</td>\n",
              "    </tr>\n",
              "    <tr>\n",
              "      <th>112604</th>\n",
              "      <td>A806884</td>\n",
              "      <td>Dog</td>\n",
              "      <td>Oso</td>\n",
              "      <td>Chinese Sharpei Mix</td>\n",
              "      <td>Black</td>\n",
              "      <td>NaT</td>\n",
              "      <td>2019-12-08 21:44:00</td>\n",
              "      <td>NaT</td>\n",
              "      <td>Sunday</td>\n",
              "      <td>NaN</td>\n",
              "      <td>3</td>\n",
              "      <td>5902 Broken Spoke Trail in Austin (TX)</td>\n",
              "      <td>Stray</td>\n",
              "      <td>Normal</td>\n",
              "      <td>Neutered Male</td>\n",
              "      <td>NaN</td>\n",
              "      <td>3 years</td>\n",
              "      <td>NaN</td>\n",
              "      <td>NaN</td>\n",
              "      <td>NaN</td>\n",
              "      <td>True</td>\n",
              "      <td>NaT</td>\n",
              "      <td>2019-12-08</td>\n",
              "      <td>21:44:00</td>\n",
              "      <td>NaT</td>\n",
              "      <td>NaT</td>\n",
              "      <td>NaT</td>\n",
              "      <td>2 days</td>\n",
              "    </tr>\n",
              "  </tbody>\n",
              "</table>\n",
              "<p>112605 rows × 28 columns</p>\n",
              "</div>"
            ],
            "text/plain": [
              "       Animal ID Animal Type  ... Days in AAC (adopted) Days in AAC (not adopted)\n",
              "0        A521520         Dog  ...                0 days                 2261 days\n",
              "1        A664235         Cat  ...                0 days                 2261 days\n",
              "2        A664236         Cat  ...                0 days                 2261 days\n",
              "3        A664237         Cat  ...                0 days                 2261 days\n",
              "4        A664233         Dog  ...                0 days                 2261 days\n",
              "...          ...         ...  ...                   ...                       ...\n",
              "112600   A810187         Dog  ...                   NaT                    2 days\n",
              "112601   A810189         Dog  ...                   NaT                    2 days\n",
              "112602   A810190       Other  ...                0 days                    2 days\n",
              "112603   A790482         Dog  ...                   NaT                    2 days\n",
              "112604   A806884         Dog  ...                   NaT                    2 days\n",
              "\n",
              "[112605 rows x 28 columns]"
            ]
          },
          "metadata": {
            "tags": []
          },
          "execution_count": 83
        }
      ]
    },
    {
      "cell_type": "code",
      "metadata": {
        "id": "P85LljjHVpnx",
        "colab_type": "code",
        "outputId": "162e305c-8ba5-4a8e-83f4-3f9425069260",
        "colab": {
          "base_uri": "https://localhost:8080/",
          "height": 510
        }
      },
      "source": [
        "pandas.isnull(in_and_out).sum()"
      ],
      "execution_count": 84,
      "outputs": [
        {
          "output_type": "execute_result",
          "data": {
            "text/plain": [
              "Animal ID                        0\n",
              "Animal Type                      0\n",
              "Name                         35639\n",
              "Breed                            0\n",
              "Color                            0\n",
              "Date of Birth                 1487\n",
              "IntakeDateTime                   0\n",
              "OutcomeDateTime               1487\n",
              "Day of intake                    0\n",
              "Day of outcome                1487\n",
              "Counter                          0\n",
              "Found Location                   0\n",
              "Intake Type                      0\n",
              "Intake Condition                 0\n",
              "Sex upon Intake                  1\n",
              "Sex upon Outcome              1491\n",
              "Age upon Intake                  0\n",
              "Age upon Outcome              1508\n",
              "Outcome Type                  1494\n",
              "Outcome Subtype              62399\n",
              "Is in AAC                        0\n",
              "Time in AAC                   1487\n",
              "Intake Date                      0\n",
              "Intake Time                      0\n",
              "Outcome Date                  1487\n",
              "Outcome Time                  1487\n",
              "Days in AAC (adopted)         1487\n",
              "Days in AAC (not adopted)        0\n",
              "dtype: int64"
            ]
          },
          "metadata": {
            "tags": []
          },
          "execution_count": 84
        }
      ]
    },
    {
      "cell_type": "code",
      "metadata": {
        "id": "H6ubx629KhFN",
        "colab_type": "code",
        "outputId": "1cd7da34-ea8b-42ed-a5f7-5b944a86742a",
        "colab": {
          "base_uri": "https://localhost:8080/",
          "height": 578
        }
      },
      "source": [
        "in_and_out.info()"
      ],
      "execution_count": 85,
      "outputs": [
        {
          "output_type": "stream",
          "text": [
            "<class 'pandas.core.frame.DataFrame'>\n",
            "Int64Index: 112605 entries, 0 to 112604\n",
            "Data columns (total 28 columns):\n",
            "Animal ID                    112605 non-null object\n",
            "Animal Type                  112605 non-null object\n",
            "Name                         76966 non-null object\n",
            "Breed                        112605 non-null object\n",
            "Color                        112605 non-null object\n",
            "Date of Birth                111118 non-null datetime64[ns]\n",
            "IntakeDateTime               112605 non-null datetime64[ns]\n",
            "OutcomeDateTime              111118 non-null datetime64[ns]\n",
            "Day of intake                112605 non-null object\n",
            "Day of outcome               111118 non-null object\n",
            "Counter                      112605 non-null int64\n",
            "Found Location               112605 non-null object\n",
            "Intake Type                  112605 non-null object\n",
            "Intake Condition             112605 non-null object\n",
            "Sex upon Intake              112604 non-null object\n",
            "Sex upon Outcome             111114 non-null object\n",
            "Age upon Intake              112605 non-null object\n",
            "Age upon Outcome             111097 non-null object\n",
            "Outcome Type                 111111 non-null object\n",
            "Outcome Subtype              50206 non-null object\n",
            "Is in AAC                    112605 non-null bool\n",
            "Time in AAC                  111118 non-null timedelta64[ns]\n",
            "Intake Date                  112605 non-null object\n",
            "Intake Time                  112605 non-null object\n",
            "Outcome Date                 111118 non-null object\n",
            "Outcome Time                 111118 non-null object\n",
            "Days in AAC (adopted)        111118 non-null timedelta64[ns]\n",
            "Days in AAC (not adopted)    112605 non-null timedelta64[ns]\n",
            "dtypes: bool(1), datetime64[ns](3), int64(1), object(20), timedelta64[ns](3)\n",
            "memory usage: 24.2+ MB\n"
          ],
          "name": "stdout"
        }
      ]
    },
    {
      "cell_type": "markdown",
      "metadata": {
        "id": "NAvAxpysaqov",
        "colab_type": "text"
      },
      "source": [
        "# Eksport do pliku csv"
      ]
    },
    {
      "cell_type": "code",
      "metadata": {
        "id": "hM11J7vBFVkM",
        "colab_type": "code",
        "colab": {}
      },
      "source": [
        "from google.colab import files\n",
        "in_and_out.to_csv('filename.csv') \n",
        "files.download('filename.csv')"
      ],
      "execution_count": 0,
      "outputs": []
    }
  ]
}